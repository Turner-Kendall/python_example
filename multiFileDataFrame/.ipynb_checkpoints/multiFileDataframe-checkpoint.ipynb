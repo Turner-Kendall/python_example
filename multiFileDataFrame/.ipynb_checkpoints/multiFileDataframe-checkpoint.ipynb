{
 "cells": [
  {
   "cell_type": "code",
   "execution_count": 11,
   "id": "8cae6762",
   "metadata": {},
   "outputs": [],
   "source": [
    "import pandas as pd\n",
    "import os"
   ]
  },
  {
   "cell_type": "code",
   "execution_count": 12,
   "id": "89cc9a68",
   "metadata": {},
   "outputs": [],
   "source": [
    "# Specify the directory containing your JSON files\n",
    "directory_path = './test'\n",
    "\n",
    "# Initialize an empty DataFrame to store the data\n",
    "df = pd.DataFrame()"
   ]
  },
  {
   "cell_type": "code",
   "execution_count": 13,
   "id": "629bbc7d",
   "metadata": {},
   "outputs": [
    {
     "name": "stdout",
     "output_type": "stream",
     "text": [
      "Reading file ./test/test2.json\n",
      "added 1 rows to df, which now has 1 rows\n",
      "Reading file ./test/test4.json\n",
      "added 1 rows to df, which now has 2 rows\n",
      "Reading file ./test/test5.json\n",
      "added 1 rows to df, which now has 3 rows\n",
      "Reading file ./test/test3.json\n",
      "added 1 rows to df, which now has 4 rows\n",
      "Reading file ./test/test1.json\n",
      "added 1 rows to df, which now has 5 rows\n",
      "ok!\n"
     ]
    },
    {
     "name": "stderr",
     "output_type": "stream",
     "text": [
      "/tmp/ipykernel_83637/1266367094.py:13: FutureWarning: The frame.append method is deprecated and will be removed from pandas in a future version. Use pandas.concat instead.\n",
      "  df = df.append(json_data, ignore_index=True)\n",
      "/tmp/ipykernel_83637/1266367094.py:13: FutureWarning: The frame.append method is deprecated and will be removed from pandas in a future version. Use pandas.concat instead.\n",
      "  df = df.append(json_data, ignore_index=True)\n",
      "/tmp/ipykernel_83637/1266367094.py:13: FutureWarning: The frame.append method is deprecated and will be removed from pandas in a future version. Use pandas.concat instead.\n",
      "  df = df.append(json_data, ignore_index=True)\n",
      "/tmp/ipykernel_83637/1266367094.py:13: FutureWarning: The frame.append method is deprecated and will be removed from pandas in a future version. Use pandas.concat instead.\n",
      "  df = df.append(json_data, ignore_index=True)\n",
      "/tmp/ipykernel_83637/1266367094.py:13: FutureWarning: The frame.append method is deprecated and will be removed from pandas in a future version. Use pandas.concat instead.\n",
      "  df = df.append(json_data, ignore_index=True)\n"
     ]
    }
   ],
   "source": [
    "# Iterate over all files in the directory \n",
    "# Add them to the dataframe\n",
    "# Print ok it finished\n",
    "for filename in os.listdir(directory_path):\n",
    "    if filename.endswith('.json'):\n",
    "        file_path = os.path.join(directory_path, filename)\n",
    "        print('Reading file {}'.format(file_path))\n",
    "\n",
    "        # Read JSON file and append to the DataFrame\n",
    "        json_data = pd.read_json(file_path, orient='records', lines=True)\n",
    "\n",
    "        # I think Append is deprecated...\n",
    "        df = df.append(json_data, ignore_index=True)\n",
    "        print (f'added {len(json_data)} rows to df, which now has {len(df)} rows')"
   ]
  },
  {
   "cell_type": "code",
   "execution_count": null,
   "id": "21752b1d",
   "metadata": {},
   "outputs": [],
   "source": [
    "df.head()"
   ]
  },
  {
   "cell_type": "code",
   "execution_count": 14,
   "id": "ecff18f3",
   "metadata": {},
   "outputs": [],
   "source": [
    "df.to_csv('batch.csv', index=False)"
   ]
  },
  {
   "cell_type": "code",
   "execution_count": null,
   "id": "241bb6cc",
   "metadata": {},
   "outputs": [],
   "source": []
  },
  {
   "cell_type": "code",
   "execution_count": null,
   "id": "fb85a1b6",
   "metadata": {},
   "outputs": [],
   "source": []
  },
  {
   "cell_type": "code",
   "execution_count": null,
   "id": "187f17f6",
   "metadata": {},
   "outputs": [],
   "source": []
  },
  {
   "cell_type": "code",
   "execution_count": null,
   "id": "e3a16feb",
   "metadata": {},
   "outputs": [],
   "source": []
  }
 ],
 "metadata": {
  "kernelspec": {
   "display_name": "Python 3 (ipykernel)",
   "language": "python",
   "name": "python3"
  },
  "language_info": {
   "codemirror_mode": {
    "name": "ipython",
    "version": 3
   },
   "file_extension": ".py",
   "mimetype": "text/x-python",
   "name": "python",
   "nbconvert_exporter": "python",
   "pygments_lexer": "ipython3",
   "version": "3.10.12"
  }
 },
 "nbformat": 4,
 "nbformat_minor": 5
}
